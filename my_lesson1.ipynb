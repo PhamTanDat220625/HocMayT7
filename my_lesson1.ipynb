{
 "cells": [
  {
   "cell_type": "markdown",
   "id": "cc3ecd4f-a66e-49f5-a303-6932821e382c",
   "metadata": {},
   "source": [
    "# Thuc hanh tri tue nhan tao Buoi 1\n",
    "## Noi dung thuc hanh"
   ]
  },
  {
   "cell_type": "markdown",
   "id": "8ea0d8fc-e529-40e0-8023-76255892caa3",
   "metadata": {
    "tags": []
   },
   "source": [
    "### In chu ra man hinh"
   ]
  },
  {
   "cell_type": "code",
   "execution_count": 5,
   "id": "224a49a1-7572-43b9-8102-173c97a1f051",
   "metadata": {},
   "outputs": [
    {
     "name": "stdout",
     "output_type": "stream",
     "text": [
      "Hello, Python World!\n"
     ]
    }
   ],
   "source": [
    "# lenh 1 - xuat chu\n",
    "print('Hello, Python World!')"
   ]
  },
  {
   "cell_type": "markdown",
   "id": "ff7268d6-cd45-4e5b-8878-723027337a7c",
   "metadata": {},
   "source": [
    "### Chay python"
   ]
  },
  {
   "cell_type": "code",
   "execution_count": 7,
   "id": "cc5f9fe0-9e0c-4721-9467-83a2c2a8e9ca",
   "metadata": {},
   "outputs": [
    {
     "name": "stdout",
     "output_type": "stream",
     "text": [
      "Hello, Python World!\n"
     ]
    }
   ],
   "source": [
    "!python ex0_hello_world.py"
   ]
  },
  {
   "cell_type": "code",
   "execution_count": 8,
   "id": "a6377715-c919-442a-a42c-8082ae0f71cb",
   "metadata": {},
   "outputs": [
    {
     "name": "stdout",
     "output_type": "stream",
     "text": [
      "Hello, Python World!\n"
     ]
    }
   ],
   "source": [
    "%run ex0_hello_world.py"
   ]
  },
  {
   "cell_type": "markdown",
   "id": "f40cfc22-1ac4-4109-b3b4-2a8bab63e6b7",
   "metadata": {},
   "source": [
    "# Ket thuc"
   ]
  },
  {
   "cell_type": "code",
   "execution_count": null,
   "id": "79472f88-a228-4a8a-8412-b131c0af8e62",
   "metadata": {},
   "outputs": [],
   "source": []
  }
 ],
 "metadata": {
  "kernelspec": {
   "display_name": "Python 3 (ipykernel)",
   "language": "python",
   "name": "python3"
  },
  "language_info": {
   "codemirror_mode": {
    "name": "ipython",
    "version": 3
   },
   "file_extension": ".py",
   "mimetype": "text/x-python",
   "name": "python",
   "nbconvert_exporter": "python",
   "pygments_lexer": "ipython3",
   "version": "3.13.5"
  },
  "toc-autonumbering": false
 },
 "nbformat": 4,
 "nbformat_minor": 5
}
